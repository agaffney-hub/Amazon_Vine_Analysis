{
  "cells": [
    {
      "cell_type": "code",
      "execution_count": 1,
      "metadata": {
        "id": "ZKNmE5GtDpi2"
      },
      "outputs": [],
      "source": [
        "## Dependencies\n",
        "import pandas as pd\n",
        "import numpy as np\n",
        "import nbconvert\n",
        "import matplotlib.pyplot as plt\n",
        "import scipy.stats as stats\n",
        "from scipy.stats import ks_2samp"
      ]
    },
    {
      "cell_type": "code",
      "execution_count": 2,
      "metadata": {
        "colab": {
          "base_uri": "https://localhost:8080/",
          "height": 371
        },
        "id": "d0-9tL9DEMUC",
        "outputId": "7c120a27-8c59-4654-e6c9-ccc9652dd14b"
      },
      "outputs": [],
      "source": [
        "## Read file\n",
        "filename = \"vine_table.csv\"\n",
        "vine_table = pd.read_csv(filename)"
      ]
    },
    {
      "cell_type": "code",
      "execution_count": 22,
      "metadata": {
        "id": "m2svLx5LKj7Y"
      },
      "outputs": [
        {
          "data": {
            "text/html": [
              "<div>\n",
              "<style scoped>\n",
              "    .dataframe tbody tr th:only-of-type {\n",
              "        vertical-align: middle;\n",
              "    }\n",
              "\n",
              "    .dataframe tbody tr th {\n",
              "        vertical-align: top;\n",
              "    }\n",
              "\n",
              "    .dataframe thead th {\n",
              "        text-align: right;\n",
              "    }\n",
              "</style>\n",
              "<table border=\"1\" class=\"dataframe\">\n",
              "  <thead>\n",
              "    <tr style=\"text-align: right;\">\n",
              "      <th></th>\n",
              "      <th>review_id</th>\n",
              "      <th>star_rating</th>\n",
              "      <th>helpful_votes</th>\n",
              "      <th>total_votes</th>\n",
              "      <th>vine</th>\n",
              "      <th>verified_purchase</th>\n",
              "    </tr>\n",
              "  </thead>\n",
              "  <tbody>\n",
              "    <tr>\n",
              "      <th>0</th>\n",
              "      <td>RQ58W7SMO911M</td>\n",
              "      <td>4</td>\n",
              "      <td>2</td>\n",
              "      <td>3</td>\n",
              "      <td>N</td>\n",
              "      <td>N</td>\n",
              "    </tr>\n",
              "    <tr>\n",
              "      <th>1</th>\n",
              "      <td>RF6IUKMGL8SF</td>\n",
              "      <td>3</td>\n",
              "      <td>5</td>\n",
              "      <td>5</td>\n",
              "      <td>N</td>\n",
              "      <td>N</td>\n",
              "    </tr>\n",
              "    <tr>\n",
              "      <th>2</th>\n",
              "      <td>R1DOSHH6AI622S</td>\n",
              "      <td>4</td>\n",
              "      <td>1</td>\n",
              "      <td>22</td>\n",
              "      <td>N</td>\n",
              "      <td>N</td>\n",
              "    </tr>\n",
              "    <tr>\n",
              "      <th>3</th>\n",
              "      <td>RATOTLA3OF70O</td>\n",
              "      <td>5</td>\n",
              "      <td>2</td>\n",
              "      <td>2</td>\n",
              "      <td>N</td>\n",
              "      <td>N</td>\n",
              "    </tr>\n",
              "    <tr>\n",
              "      <th>4</th>\n",
              "      <td>R1TNWRKIVHVYOV</td>\n",
              "      <td>4</td>\n",
              "      <td>0</td>\n",
              "      <td>2</td>\n",
              "      <td>N</td>\n",
              "      <td>N</td>\n",
              "    </tr>\n",
              "  </tbody>\n",
              "</table>\n",
              "</div>"
            ],
            "text/plain": [
              "        review_id  star_rating  helpful_votes  total_votes vine  \\\n",
              "0   RQ58W7SMO911M            4              2            3    N   \n",
              "1    RF6IUKMGL8SF            3              5            5    N   \n",
              "2  R1DOSHH6AI622S            4              1           22    N   \n",
              "3   RATOTLA3OF70O            5              2            2    N   \n",
              "4  R1TNWRKIVHVYOV            4              0            2    N   \n",
              "\n",
              "  verified_purchase  \n",
              "0                 N  \n",
              "1                 N  \n",
              "2                 N  \n",
              "3                 N  \n",
              "4                 N  "
            ]
          },
          "execution_count": 22,
          "metadata": {},
          "output_type": "execute_result"
        }
      ],
      "source": [
        "vine_table.head()"
      ]
    },
    {
      "cell_type": "code",
      "execution_count": 4,
      "metadata": {
        "id": "M42dN6IAKkzO"
      },
      "outputs": [
        {
          "data": {
            "text/plain": [
              "review_id            object\n",
              "star_rating           int64\n",
              "helpful_votes         int64\n",
              "total_votes           int64\n",
              "vine                 object\n",
              "verified_purchase    object\n",
              "dtype: object"
            ]
          },
          "execution_count": 4,
          "metadata": {},
          "output_type": "execute_result"
        }
      ],
      "source": [
        "vine_table.dtypes"
      ]
    },
    {
      "cell_type": "code",
      "execution_count": 6,
      "metadata": {
        "id": "lJo6W19zLfag"
      },
      "outputs": [],
      "source": [
        "# Filter to find products where helpful votes are at least 50%\n",
        "helpful = vine_table[(vine_table.helpful_votes/vine_table.total_votes) >= 0.5]"
      ]
    },
    {
      "cell_type": "code",
      "execution_count": 7,
      "metadata": {
        "id": "y__1WDl9LoKw"
      },
      "outputs": [],
      "source": [
        "# Filtering paid and unpaid users\n",
        "paid = helpful[helpful.vine == 'Y']\n",
        "unpaid = helpful[helpful.vine == 'N']"
      ]
    },
    {
      "cell_type": "code",
      "execution_count": 8,
      "metadata": {
        "id": "UFgjab7FLvQb"
      },
      "outputs": [],
      "source": [
        "# Creates function that can return the total number of reviews, number of 5-star reviews and percentage of 5-star reviews\n",
        "def calculate_reviews(df, rating=5, helpful='helpful'):\n",
        "    total = df.review_id.count()\n",
        "    fives = df.star_rating[df.star_rating == rating].count()\n",
        "    percent = fives/total * 100\n",
        "    \n",
        "    if df.iloc[0,4] == \"N\":\n",
        "        payment = \"unpaid\"\n",
        "    else:\n",
        "        payment = \"paid vine\"\n",
        "\n",
        "    return (f'Out of {total:,} reviews, there were {fives:,} {rating}-star reviews. The percent of {helpful} {rating}-star reviews by {payment} users was {percent:.2f}%')"
      ]
    },
    {
      "cell_type": "code",
      "execution_count": 9,
      "metadata": {
        "id": "uiLfn2lJL4zp"
      },
      "outputs": [
        {
          "data": {
            "text/plain": [
              "'Out of 2 reviews, there were 1 5-star reviews. The percent of helpful 5-star reviews by paid vine users was 50.00%'"
            ]
          },
          "execution_count": 9,
          "metadata": {},
          "output_type": "execute_result"
        }
      ],
      "source": [
        "# Display the vine users for book sales \n",
        "calculate_reviews(paid)"
      ]
    },
    {
      "cell_type": "code",
      "execution_count": 10,
      "metadata": {
        "id": "uY9UnI0jMXCf"
      },
      "outputs": [
        {
          "data": {
            "text/plain": [
              "'Out of 2,325,442 reviews, there were 1,467,537 5-star reviews. The percent of helpful 5-star reviews by unpaid users was 63.11%'"
            ]
          },
          "execution_count": 10,
          "metadata": {},
          "output_type": "execute_result"
        }
      ],
      "source": [
        "# Displays unpaid vine users\n",
        "calculate_reviews(unpaid)"
      ]
    },
    {
      "cell_type": "markdown",
      "metadata": {
        "id": "_RczNR6AMlOl"
      },
      "source": [
        "## Further look at other starred reviews"
      ]
    },
    {
      "cell_type": "code",
      "execution_count": 11,
      "metadata": {
        "id": "ogIujJs1Mj1v"
      },
      "outputs": [
        {
          "data": {
            "text/plain": [
              "('Out of 2 reviews, there were 1 4-star reviews. The percent of helpful 4-star reviews by paid vine users was 50.00%',\n",
              " 'Out of 2,325,442 reviews, there were 444,943 4-star reviews. The percent of helpful 4-star reviews by unpaid users was 19.13%')"
            ]
          },
          "execution_count": 11,
          "metadata": {},
          "output_type": "execute_result"
        }
      ],
      "source": [
        "# Helpful 4-star\n",
        "(calculate_reviews(paid, 4), calculate_reviews(unpaid, 4))"
      ]
    },
    {
      "cell_type": "code",
      "execution_count": 12,
      "metadata": {
        "id": "7Rt5PkwwNCKD"
      },
      "outputs": [
        {
          "data": {
            "text/plain": [
              "('Out of 2 reviews, there were 0 3-star reviews. The percent of helpful 3-star reviews by paid vine users was 0.00%',\n",
              " 'Out of 2,325,442 reviews, there were 173,245 3-star reviews. The percent of helpful 3-star reviews by unpaid users was 7.45%')"
            ]
          },
          "execution_count": 12,
          "metadata": {},
          "output_type": "execute_result"
        }
      ],
      "source": [
        "# Helpful 3-star\n",
        "(calculate_reviews(paid, 3), calculate_reviews(unpaid, 3))"
      ]
    },
    {
      "cell_type": "code",
      "execution_count": 13,
      "metadata": {
        "id": "rVv2jPh6NHSq"
      },
      "outputs": [
        {
          "data": {
            "text/plain": [
              "('Out of 2 reviews, there were 0 2-star reviews. The percent of helpful 2-star reviews by paid vine users was 0.00%',\n",
              " 'Out of 2,325,442 reviews, there were 108,689 2-star reviews. The percent of helpful 2-star reviews by unpaid users was 4.67%')"
            ]
          },
          "execution_count": 13,
          "metadata": {},
          "output_type": "execute_result"
        }
      ],
      "source": [
        "# Helpful 2-star\n",
        "(calculate_reviews(paid, 2), calculate_reviews(unpaid, 2))"
      ]
    },
    {
      "cell_type": "code",
      "execution_count": 14,
      "metadata": {
        "id": "UMaKRpqWNJcz"
      },
      "outputs": [
        {
          "data": {
            "text/plain": [
              "('Out of 2 reviews, there were 0 1-star reviews. The percent of helpful 1-star reviews by paid vine users was 0.00%',\n",
              " 'Out of 2,325,442 reviews, there were 131,028 1-star reviews. The percent of helpful 1-star reviews by unpaid users was 5.63%')"
            ]
          },
          "execution_count": 14,
          "metadata": {},
          "output_type": "execute_result"
        }
      ],
      "source": [
        "# Helpful 1-star\n",
        "(calculate_reviews(paid, 1), calculate_reviews(unpaid, 1))"
      ]
    },
    {
      "cell_type": "code",
      "execution_count": 15,
      "metadata": {
        "id": "FkQkP7oxNXYu"
      },
      "outputs": [],
      "source": [
        "def visual_reviews(df, helpful='helpful'):\n",
        "    total = df.review_id.count()\n",
        "    fives = df.star_rating[df.star_rating == 5].count()\n",
        "    fours = df.star_rating[df.star_rating == 4].count()\n",
        "    threes = df.star_rating[df.star_rating == 3].count()\n",
        "    twos = df.star_rating[df.star_rating == 2].count()\n",
        "    ones = df.star_rating[df.star_rating == 1].count()\n",
        "\n",
        "    return [fives/total, fours/total, threes/total, twos/total, ones/total]"
      ]
    },
    {
      "cell_type": "code",
      "execution_count": 16,
      "metadata": {
        "id": "I1MtdOtfNoeY"
      },
      "outputs": [],
      "source": [
        "paid_reviews = visual_reviews(paid)\n",
        "unpaid_reviews = visual_reviews(unpaid)\n",
        "x_labels = [\"5\", \"4\", \"3\", \"2\", \"1\"]"
      ]
    },
    {
      "cell_type": "code",
      "execution_count": 17,
      "metadata": {
        "id": "Vbenb5rdNpOU"
      },
      "outputs": [
        {
          "data": {
            "image/png": "[encoded data removed]",
            "text/plain": [
              "<Figure size 432x288 with 1 Axes>"
            ]
          },
          "metadata": {
            "needs_background": "light"
          },
          "output_type": "display_data"
        }
      ],
      "source": [
        "x_axis = np.arange(len(x_labels))\n",
        "plt.bar(x_axis + 0.8, paid_reviews, 0.4, label = \"Paid\")\n",
        "plt.bar(x_axis + 1.2, unpaid_reviews, 0.4, label = \"Unpaid\")\n",
        "\n",
        "plt.title(\"Amount of Paid Users\")\n",
        "plt.xlabel(\"Rating\")\n",
        "plt.xticks([1, 2, 3, 4, 5], x_labels)\n",
        "plt.ylabel(\"Percent of Total\")\n",
        "plt.legend()\n",
        "plt.show()"
      ]
    }
  ],
  "metadata": {
    "colab": {
      "provenance": []
    },
    "kernelspec": {
      "display_name": "Python 3.7.13",
      "language": "python",
      "name": "python3"
    },
    "language_info": {
      "codemirror_mode": {
        "name": "ipython",
        "version": 3
      },
      "file_extension": ".py",
      "mimetype": "text/x-python",
      "name": "python",
      "nbconvert_exporter": "python",
      "pygments_lexer": "ipython3",
      "version": "3.7.13"
    },
    "vscode": {
      "interpreter": {
        "hash": "a5387b9da968551e43e0ccab31c37bebadc093c630309dcd510e17231b5b064a"
      }
    }
  },
  "nbformat": 4,
  "nbformat_minor": 0
}
